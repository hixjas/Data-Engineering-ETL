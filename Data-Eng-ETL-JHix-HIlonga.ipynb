{
 "cells": [
  {
   "cell_type": "markdown",
   "metadata": {},
   "source": [
    "# Data Engineering with ETL\n",
    "\n",
    "The purpose of this project, is to explore the Columbus, Ohio points of interest data and columbus community data using the ETL process."
   ]
  },
  {
   "cell_type": "code",
   "execution_count": 2,
   "metadata": {},
   "outputs": [],
   "source": [
    "# Import libraries\n",
    "import pandas as pd\n",
    "import json\n",
    "\n",
    "# Import Libraries for geocoding\n",
    "from geopy.geocoders import Nominatim\n",
    "import time\n",
    "from tqdm import tqdm\n",
    "import geopandas as gpd\n",
    "from geopandas import GeoDataFrame"
   ]
  },
  {
   "cell_type": "markdown",
   "metadata": {},
   "source": [
    "### 1. Data Extraction\n",
    "Use Python and Pandas to extract and transform data from the poi.csv and columbus_communities.geojson datasets."
   ]
  },
  {
   "cell_type": "code",
   "execution_count": 3,
   "metadata": {},
   "outputs": [
    {
     "name": "stdout",
     "output_type": "stream",
     "text": [
      "POI Data:\n",
      "              X              Y  OBJECTID   COLS_KEY                 LSN  \\\n",
      "0  1.796884e+06  731334.361343  20415656   626098.0  3750 ZANE TRACE DR   \n",
      "1  1.842715e+06  749717.238291  20415657  1268125.0       2645 MORSE RD   \n",
      "2  1.847615e+06  689890.356632  20415658   465109.0  3699 ALUM CREEK DR   \n",
      "3  1.796091e+06  728398.931190  20415659   810355.0    2180 N WILSON RD   \n",
      "4  1.806697e+06  712614.778047  20415660   885361.0     2872 W BROAD ST   \n",
      "\n",
      "                             POI_NAME                    POI_TYPE POI_SOURCE  \\\n",
      "0                          Pet Brands      Industrial - Warehouse        NaN   \n",
      "1  Kohler Bathroom & Kitchen Products  Retail - Commercial/Retail        NaN   \n",
      "2  Shasta National Beverage Warehouse      Industrial - Warehouse        NaN   \n",
      "3                  Metal Supermarkets  Retail - Commercial/Retail        NaN   \n",
      "4            American Health Network              Medical - Other        NaN   \n",
      "\n",
      "  PRIMARY_USE ALT_GEOM   PHONE_NUM                                GLOBALID  \\\n",
      "0           Y        Y         NaN  {F2C8EB1B-45DB-412A-B929-0D857CD18806}   \n",
      "1           Y        Y         NaN  {3A9C7DC9-08CD-4D6F-A03D-7B41D18DD20E}   \n",
      "2           Y        Y  6144599945  {6986355D-E68F-42EC-9B65-77BAD21BB0F9}   \n",
      "3           Y        Y         NaN  {067557F5-3473-4887-BF6E-1737847ACA36}   \n",
      "4           Y        Y         NaN  {B007DE45-FA77-4A34-8B37-5D9350A038B3}   \n",
      "\n",
      "  WEBSITE OB_GYN PEDIATRICS PRIMARY_CARE  SUTQ_RATING SNAP  WIC  \n",
      "0     NaN    NaN        NaN          NaN          NaN  NaN  NaN  \n",
      "1     NaN    NaN        NaN          NaN          NaN  NaN  NaN  \n",
      "2     NaN    NaN        NaN          NaN          NaN  NaN  NaN  \n",
      "3     NaN    NaN        NaN          NaN          NaN  NaN  NaN  \n",
      "4     NaN    NaN        NaN          NaN          NaN  NaN  NaN  \n"
     ]
    }
   ],
   "source": [
    "# Load POI Data from CSV\n",
    "poi_file_path = \"Resources/poi_data.csv\"\n",
    "poi_df = pd.read_csv(poi_file_path)\n",
    "print(\"POI Data:\")\n",
    "print(poi_df.head())"
   ]
  },
  {
   "cell_type": "code",
   "execution_count": 4,
   "metadata": {},
   "outputs": [
    {
     "name": "stdout",
     "output_type": "stream",
     "text": [
      "<class 'pandas.core.frame.DataFrame'>\n",
      "RangeIndex: 15940 entries, 0 to 15939\n",
      "Data columns (total 19 columns):\n",
      " #   Column        Non-Null Count  Dtype  \n",
      "---  ------        --------------  -----  \n",
      " 0   X             15940 non-null  float64\n",
      " 1   Y             15940 non-null  float64\n",
      " 2   OBJECTID      15940 non-null  int64  \n",
      " 3   COLS_KEY      15531 non-null  float64\n",
      " 4   LSN           15925 non-null  object \n",
      " 5   POI_NAME      15940 non-null  object \n",
      " 6   POI_TYPE      15940 non-null  object \n",
      " 7   POI_SOURCE    2336 non-null   object \n",
      " 8   PRIMARY_USE   14839 non-null  object \n",
      " 9   ALT_GEOM      15940 non-null  object \n",
      " 10  PHONE_NUM     4583 non-null   object \n",
      " 11  GLOBALID      15940 non-null  object \n",
      " 12  WEBSITE       584 non-null    object \n",
      " 13  OB_GYN        97 non-null     object \n",
      " 14  PEDIATRICS    86 non-null     object \n",
      " 15  PRIMARY_CARE  134 non-null    object \n",
      " 16  SUTQ_RATING   1123 non-null   float64\n",
      " 17  SNAP          1133 non-null   object \n",
      " 18  WIC           108 non-null    object \n",
      "dtypes: float64(4), int64(1), object(14)\n",
      "memory usage: 2.3+ MB\n"
     ]
    }
   ],
   "source": [
    "poi_df.info()"
   ]
  },
  {
   "cell_type": "code",
   "execution_count": 9,
   "metadata": {},
   "outputs": [
    {
     "data": {
      "text/plain": [
       "(15940, 19)"
      ]
     },
     "execution_count": 9,
     "metadata": {},
     "output_type": "execute_result"
    }
   ],
   "source": [
    "# View the total number of columns and rows\n",
    "poi_df.shape"
   ]
  },
  {
   "cell_type": "code",
   "execution_count": 6,
   "metadata": {},
   "outputs": [
    {
     "name": "stdout",
     "output_type": "stream",
     "text": [
      "Community Data:\n",
      "   OBJECTID               AREA_NAME              CREATED_DATE  \\\n",
      "0       359               Far South 2018-10-02 19:34:47+00:00   \n",
      "1       360  Livingston Avenue Area 2018-10-02 19:34:47+00:00   \n",
      "2       361               Southwest 2018-10-02 19:34:47+00:00   \n",
      "3       362     University District 2018-10-02 19:34:47+00:00   \n",
      "4       363                Westland 2018-10-02 19:34:47+00:00   \n",
      "\n",
      "             LAST_EDIT_DATE  AREA_NO                                GLOBALID  \\\n",
      "0 2024-11-06 14:26:28+00:00       64  {DE1E5BD1-465B-4DA0-A5DB-4D518C3AC9DF}   \n",
      "1 2022-11-17 14:33:57+00:00       62  {68BD6D27-A7AA-49EF-B7C0-6A2464E3438E}   \n",
      "2 2022-11-17 15:02:09+00:00       59  {417925A7-E194-47C5-95EE-866972B32697}   \n",
      "3 2022-11-10 18:37:10+00:00       44  {EB56F546-7152-4174-9982-16FEBB30AC7C}   \n",
      "4 2018-10-02 19:36:55+00:00       52  {FEC6B62A-1C9D-4A05-8831-A34CBEBB5A88}   \n",
      "\n",
      "    SHAPESTArea  SHAPESTLength  \\\n",
      "0  7.141404e+08  394997.951037   \n",
      "1  3.088745e+07   32450.707488   \n",
      "2  3.031633e+08   81432.194325   \n",
      "3  8.173174e+07   39627.917288   \n",
      "4  4.623001e+08  105732.693794   \n",
      "\n",
      "                                            geometry  \n",
      "0  POLYGON ((-82.95008 39.81174, -82.94989 39.811...  \n",
      "1  POLYGON ((-82.98156 39.95453, -82.98228 39.954...  \n",
      "2  POLYGON ((-83.02253 39.94851, -83.02274 39.949...  \n",
      "3  POLYGON ((-83.00429 40.0191, -83.00435 40.0191...  \n",
      "4  POLYGON ((-83.12258 39.92685, -83.12261 39.926...  \n"
     ]
    }
   ],
   "source": [
    "# Load the Columbus Communities dataset GeoJSON file\n",
    "communities_gdf = gpd.read_file(\"Resources/columbus_communities.geojson\")\n",
    "print(\"Community Data:\")\n",
    "print(communities_gdf.head())"
   ]
  },
  {
   "cell_type": "code",
   "execution_count": 7,
   "metadata": {},
   "outputs": [
    {
     "name": "stdout",
     "output_type": "stream",
     "text": [
      "<class 'geopandas.geodataframe.GeoDataFrame'>\n",
      "RangeIndex: 41 entries, 0 to 40\n",
      "Data columns (total 9 columns):\n",
      " #   Column          Non-Null Count  Dtype              \n",
      "---  ------          --------------  -----              \n",
      " 0   OBJECTID        41 non-null     int32              \n",
      " 1   AREA_NAME       41 non-null     object             \n",
      " 2   CREATED_DATE    41 non-null     datetime64[ms, UTC]\n",
      " 3   LAST_EDIT_DATE  41 non-null     datetime64[ms, UTC]\n",
      " 4   AREA_NO         41 non-null     int32              \n",
      " 5   GLOBALID        41 non-null     object             \n",
      " 6   SHAPESTArea     41 non-null     float64            \n",
      " 7   SHAPESTLength   41 non-null     float64            \n",
      " 8   geometry        41 non-null     geometry           \n",
      "dtypes: datetime64[ms, UTC](2), float64(2), geometry(1), int32(2), object(2)\n",
      "memory usage: 2.7+ KB\n"
     ]
    }
   ],
   "source": [
    "communities_gdf.info()"
   ]
  },
  {
   "cell_type": "markdown",
   "metadata": {},
   "source": [
    "### 1. Transform\n",
    "Use Geocoding and Pandas to transform the business location data within the dataframes."
   ]
  },
  {
   "cell_type": "code",
   "execution_count": 10,
   "metadata": {},
   "outputs": [
    {
     "name": "stdout",
     "output_type": "stream",
     "text": [
      "               X              Y  OBJECTID   COLS_KEY                  LSN  \\\n",
      "25  1.829872e+06  721968.778040  20415681  1232757.0        350 E 1ST AVE   \n",
      "41  1.853989e+06  699122.803719  20415697   461583.0      3480 REFUGEE RD   \n",
      "63  1.805330e+06  770084.667372  20415719   973552.0  2524 BILLINGSLEY RD   \n",
      "75  1.809716e+06  715039.649182  20415731   268367.0     303 N EUREKA AVE   \n",
      "87  1.835008e+06  735507.522616  20415743   155334.0   1254 BRIARWOOD AVE   \n",
      "\n",
      "                             POI_NAME  \\\n",
      "25  Berry Brothers Boltworks Building   \n",
      "41                First Church of God   \n",
      "63             Regals Cinema Columbus   \n",
      "75            Holton Community Center   \n",
      "87            Linden Community Center   \n",
      "\n",
      "                                       POI_TYPE POI_SOURCE PRIMARY_USE  \\\n",
      "25                        Public Places - Other        NaN           Y   \n",
      "41             Public Places - House of Worship        NaN           Y   \n",
      "63         Public Places - Theater/Concert Hall        NaN           Y   \n",
      "75  Public Places - Community/Recreation Center        COC           Y   \n",
      "87  Public Places - Community/Recreation Center        COC           Y   \n",
      "\n",
      "   ALT_GEOM PHONE_NUM                                GLOBALID  \\\n",
      "25        Y       NaN  {E10824E4-6C1E-456A-A145-E3AEBE6B3495}   \n",
      "41        Y       NaN  {CA20138C-DB42-4760-89B0-85B0A7F39FEC}   \n",
      "63        Y       NaN  {5FB3901C-910E-4D78-A0A0-06BAD9002B31}   \n",
      "75        Y       NaN  {6F613E94-CA0B-4316-9411-0380E448D0AD}   \n",
      "87        Y       NaN  {D051CD89-5338-4181-9B39-85B36EE82573}   \n",
      "\n",
      "                                              WEBSITE OB_GYN PEDIATRICS  \\\n",
      "25                                                NaN    NaN        NaN   \n",
      "41                                                NaN    NaN        NaN   \n",
      "63                                                NaN    NaN        NaN   \n",
      "75  https://www.columbus.gov/recreationandparks/re...    NaN        NaN   \n",
      "87                                                NaN    NaN        NaN   \n",
      "\n",
      "   PRIMARY_CARE  SUTQ_RATING SNAP  WIC  \n",
      "25          NaN          NaN  NaN  NaN  \n",
      "41          NaN          NaN  NaN  NaN  \n",
      "63          NaN          NaN  NaN  NaN  \n",
      "75          NaN          NaN  NaN  NaN  \n",
      "87          NaN          NaN  NaN  NaN  \n"
     ]
    }
   ],
   "source": [
    "# Filter the dataset to include only POI Types that start with \"Public Places\"\n",
    "public_places_df = poi_df[poi_df['POI_TYPE'].str.startswith(\"Public Places\")].copy()\n",
    "print(public_places_df.head())"
   ]
  },
  {
   "cell_type": "code",
   "execution_count": 11,
   "metadata": {},
   "outputs": [
    {
     "data": {
      "text/plain": [
       "(958, 19)"
      ]
     },
     "execution_count": 11,
     "metadata": {},
     "output_type": "execute_result"
    }
   ],
   "source": [
    "# View the updated number of rows and columns\n",
    "public_places_df.shape"
   ]
  },
  {
   "cell_type": "code",
   "execution_count": 12,
   "metadata": {},
   "outputs": [
    {
     "name": "stderr",
     "output_type": "stream",
     "text": [
      "  4%|▍         | 36/958 [00:39<19:11,  1.25s/it]"
     ]
    },
    {
     "name": "stdout",
     "output_type": "stream",
     "text": [
      "Address not found: 3901 PARSONS AVE  COMM\n"
     ]
    },
    {
     "name": "stderr",
     "output_type": "stream",
     "text": [
      "  4%|▍         | 42/958 [00:45<14:46,  1.03it/s]"
     ]
    },
    {
     "name": "stdout",
     "output_type": "stream",
     "text": [
      "Error geocoding nan: unsupported operand type(s) for +: 'float' and 'str'\n"
     ]
    },
    {
     "name": "stderr",
     "output_type": "stream",
     "text": [
      "  5%|▌         | 49/958 [00:51<15:55,  1.05s/it]"
     ]
    },
    {
     "name": "stdout",
     "output_type": "stream",
     "text": [
      "Address not found: 555 YMCA PL, GAHANNA, OH\n"
     ]
    },
    {
     "name": "stderr",
     "output_type": "stream",
     "text": [
      "  5%|▌         | 52/958 [00:57<25:34,  1.69s/it]"
     ]
    },
    {
     "name": "stdout",
     "output_type": "stream",
     "text": [
      "Address not found: 250 S NAPOLEAN AVE\n"
     ]
    },
    {
     "name": "stderr",
     "output_type": "stream",
     "text": [
      "  6%|▌         | 58/958 [01:03<17:45,  1.18s/it]"
     ]
    },
    {
     "name": "stdout",
     "output_type": "stream",
     "text": [
      "Address not found: 1470 DAVIDSON DR\n"
     ]
    },
    {
     "name": "stderr",
     "output_type": "stream",
     "text": [
      "  7%|▋         | 64/958 [01:10<15:53,  1.07s/it]"
     ]
    },
    {
     "name": "stdout",
     "output_type": "stream",
     "text": [
      "Address not found: 2800 TREMONT RD\n"
     ]
    },
    {
     "name": "stderr",
     "output_type": "stream",
     "text": [
      "  7%|▋         | 66/958 [01:14<21:00,  1.41s/it]"
     ]
    },
    {
     "name": "stdout",
     "output_type": "stream",
     "text": [
      "Address not found: 542 W JOHNSTOWN RD\n"
     ]
    },
    {
     "name": "stderr",
     "output_type": "stream",
     "text": [
      "  7%|▋         | 67/958 [01:15<20:11,  1.36s/it]"
     ]
    },
    {
     "name": "stdout",
     "output_type": "stream",
     "text": [
      "Address not found: 455 CLARK STATE RD\n"
     ]
    },
    {
     "name": "stderr",
     "output_type": "stream",
     "text": [
      "  8%|▊         | 77/958 [01:27<17:39,  1.20s/it]"
     ]
    },
    {
     "name": "stdout",
     "output_type": "stream",
     "text": [
      "Address not found: 1945 LANE RD\n"
     ]
    },
    {
     "name": "stderr",
     "output_type": "stream",
     "text": [
      "  9%|▊         | 82/958 [01:32<14:51,  1.02s/it]"
     ]
    },
    {
     "name": "stdout",
     "output_type": "stream",
     "text": [
      "Address not found: 1581 CAMBRIDGE BLVD\n"
     ]
    },
    {
     "name": "stderr",
     "output_type": "stream",
     "text": [
      "  9%|▉         | 84/958 [01:35<14:58,  1.03s/it]"
     ]
    },
    {
     "name": "stdout",
     "output_type": "stream",
     "text": [
      "Address not found: 1320 CAMBRIDGE BLVD\n"
     ]
    },
    {
     "name": "stderr",
     "output_type": "stream",
     "text": [
      "  9%|▉         | 86/958 [01:37<16:52,  1.16s/it]"
     ]
    },
    {
     "name": "stdout",
     "output_type": "stream",
     "text": [
      "Address not found: 165 PARKVIEW AVE\n"
     ]
    },
    {
     "name": "stderr",
     "output_type": "stream",
     "text": [
      "  9%|▉         | 87/958 [01:38<14:55,  1.03s/it]"
     ]
    },
    {
     "name": "stdout",
     "output_type": "stream",
     "text": [
      "Address not found: 222 SCHOOLHOUSE LN\n"
     ]
    },
    {
     "name": "stderr",
     "output_type": "stream",
     "text": [
      " 10%|▉         | 92/958 [01:43<15:20,  1.06s/it]"
     ]
    },
    {
     "name": "stdout",
     "output_type": "stream",
     "text": [
      "Address not found: 1636 GRAHAM RD\n"
     ]
    },
    {
     "name": "stderr",
     "output_type": "stream",
     "text": [
      " 10%|█         | 99/958 [01:51<16:49,  1.18s/it]"
     ]
    },
    {
     "name": "stdout",
     "output_type": "stream",
     "text": [
      "Address not found: 750 CROSS POINTE RD\n"
     ]
    },
    {
     "name": "stderr",
     "output_type": "stream",
     "text": [
      " 11%|█         | 104/958 [01:55<14:25,  1.01s/it]"
     ]
    },
    {
     "name": "stdout",
     "output_type": "stream",
     "text": [
      "Address not found: 4770 HOOVER RD\n"
     ]
    },
    {
     "name": "stderr",
     "output_type": "stream",
     "text": [
      " 11%|█▏        | 108/958 [02:00<16:13,  1.14s/it]"
     ]
    },
    {
     "name": "stdout",
     "output_type": "stream",
     "text": [
      "Address not found: 6305 BRAND RD\n"
     ]
    },
    {
     "name": "stderr",
     "output_type": "stream",
     "text": [
      " 11%|█▏        | 109/958 [02:01<14:49,  1.05s/it]"
     ]
    },
    {
     "name": "stdout",
     "output_type": "stream",
     "text": [
      "Address not found: 6700 RINGS RD\n"
     ]
    },
    {
     "name": "stderr",
     "output_type": "stream",
     "text": [
      " 12%|█▏        | 111/958 [02:03<15:32,  1.10s/it]"
     ]
    },
    {
     "name": "stdout",
     "output_type": "stream",
     "text": [
      "Address not found: 5775 DUBLINSHIRE DR\n"
     ]
    },
    {
     "name": "stderr",
     "output_type": "stream",
     "text": [
      " 12%|█▏        | 112/958 [02:05<16:49,  1.19s/it]"
     ]
    },
    {
     "name": "stdout",
     "output_type": "stream",
     "text": [
      "Address not found: 6400 POST RD\n"
     ]
    },
    {
     "name": "stderr",
     "output_type": "stream",
     "text": [
      " 12%|█▏        | 113/958 [02:07<23:08,  1.64s/it]"
     ]
    },
    {
     "name": "stdout",
     "output_type": "stream",
     "text": [
      "Address not found: 51 N STATE ST\n"
     ]
    },
    {
     "name": "stderr",
     "output_type": "stream",
     "text": [
      " 16%|█▌        | 154/958 [02:53<16:22,  1.22s/it]"
     ]
    },
    {
     "name": "stdout",
     "output_type": "stream",
     "text": [
      "Address not found: 2812 N OSCEOLA ST\n"
     ]
    },
    {
     "name": "stderr",
     "output_type": "stream",
     "text": [
      " 18%|█▊        | 172/958 [03:12<15:19,  1.17s/it]"
     ]
    },
    {
     "name": "stdout",
     "output_type": "stream",
     "text": [
      "Address not found: 895 PARSONS AVE UNIT A\n"
     ]
    },
    {
     "name": "stderr",
     "output_type": "stream",
     "text": [
      " 20%|██        | 192/958 [03:36<19:09,  1.50s/it]"
     ]
    },
    {
     "name": "stdout",
     "output_type": "stream",
     "text": [
      "Address not found: 2143 N JOYCE AVE\n"
     ]
    },
    {
     "name": "stderr",
     "output_type": "stream",
     "text": [
      " 23%|██▎       | 221/958 [04:08<21:02,  1.71s/it]"
     ]
    },
    {
     "name": "stdout",
     "output_type": "stream",
     "text": [
      "Address not found: 2833 VALLEY VIEW DR\n"
     ]
    },
    {
     "name": "stderr",
     "output_type": "stream",
     "text": [
      " 46%|████▌     | 439/958 [08:14<11:37,  1.34s/it]"
     ]
    },
    {
     "name": "stdout",
     "output_type": "stream",
     "text": [
      "Address not found: 1060 E MAIN ST UNIT C\n"
     ]
    },
    {
     "name": "stderr",
     "output_type": "stream",
     "text": [
      " 53%|█████▎    | 511/958 [09:39<09:28,  1.27s/it]"
     ]
    },
    {
     "name": "stdout",
     "output_type": "stream",
     "text": [
      "Address not found: 6000 COOPER RD D\n"
     ]
    },
    {
     "name": "stderr",
     "output_type": "stream",
     "text": [
      " 62%|██████▏   | 594/958 [11:16<12:26,  2.05s/it]"
     ]
    },
    {
     "name": "stdout",
     "output_type": "stream",
     "text": [
      "Address not found: 275 EASTON TOWN CENTER\n"
     ]
    },
    {
     "name": "stderr",
     "output_type": "stream",
     "text": [
      " 71%|███████   | 681/958 [13:03<06:08,  1.33s/it]"
     ]
    },
    {
     "name": "stdout",
     "output_type": "stream",
     "text": [
      "Address not found: 7510 E BROAD ST BLDG B\n"
     ]
    },
    {
     "name": "stderr",
     "output_type": "stream",
     "text": [
      " 75%|███████▌  | 721/958 [13:46<04:47,  1.22s/it]"
     ]
    },
    {
     "name": "stdout",
     "output_type": "stream",
     "text": [
      "Address not found: 1442 1/2 SULLIVANT AVE\n"
     ]
    },
    {
     "name": "stderr",
     "output_type": "stream",
     "text": [
      " 81%|████████▏ | 779/958 [14:56<04:58,  1.67s/it]"
     ]
    },
    {
     "name": "stdout",
     "output_type": "stream",
     "text": [
      "Address not found: 647 1/2 W BROAD ST UNIT 27\n"
     ]
    },
    {
     "name": "stderr",
     "output_type": "stream",
     "text": [
      " 87%|████████▋ | 836/958 [15:56<02:28,  1.22s/it]"
     ]
    },
    {
     "name": "stdout",
     "output_type": "stream",
     "text": [
      "Address not found: 2879 VALLEY VIEW DR\n"
     ]
    },
    {
     "name": "stderr",
     "output_type": "stream",
     "text": [
      " 88%|████████▊ | 840/958 [16:01<02:40,  1.36s/it]"
     ]
    },
    {
     "name": "stdout",
     "output_type": "stream",
     "text": [
      "Address not found: 5718 KATHY RUN LN 8\n"
     ]
    },
    {
     "name": "stderr",
     "output_type": "stream",
     "text": [
      " 92%|█████████▏| 884/958 [16:55<01:49,  1.47s/it]"
     ]
    },
    {
     "name": "stdout",
     "output_type": "stream",
     "text": [
      "Address not found: 160 S HIGH ST UNIT PV\n"
     ]
    },
    {
     "name": "stderr",
     "output_type": "stream",
     "text": [
      " 93%|█████████▎| 889/958 [17:00<01:18,  1.14s/it]"
     ]
    },
    {
     "name": "stdout",
     "output_type": "stream",
     "text": [
      "Address not found: 3761 HARDING DR REAR\n"
     ]
    },
    {
     "name": "stderr",
     "output_type": "stream",
     "text": [
      " 97%|█████████▋| 931/958 [17:47<00:39,  1.46s/it]"
     ]
    },
    {
     "name": "stdout",
     "output_type": "stream",
     "text": [
      "Address not found: 570 E WOODROW AVE UNIT A\n"
     ]
    },
    {
     "name": "stderr",
     "output_type": "stream",
     "text": [
      " 97%|█████████▋| 934/958 [17:50<00:30,  1.26s/it]"
     ]
    },
    {
     "name": "stdout",
     "output_type": "stream",
     "text": [
      "Address not found: 1100 RHOADS AVE UNIT CC\n"
     ]
    },
    {
     "name": "stderr",
     "output_type": "stream",
     "text": [
      " 98%|█████████▊| 936/958 [17:52<00:24,  1.13s/it]"
     ]
    },
    {
     "name": "stdout",
     "output_type": "stream",
     "text": [
      "Address not found: 6135 RINGS RD\n"
     ]
    },
    {
     "name": "stderr",
     "output_type": "stream",
     "text": [
      " 98%|█████████▊| 938/958 [17:55<00:22,  1.12s/it]"
     ]
    },
    {
     "name": "stdout",
     "output_type": "stream",
     "text": [
      "Address not found: 4500 HICKORY CHASE WAY\n"
     ]
    },
    {
     "name": "stderr",
     "output_type": "stream",
     "text": [
      " 98%|█████████▊| 942/958 [17:59<00:18,  1.15s/it]"
     ]
    },
    {
     "name": "stdout",
     "output_type": "stream",
     "text": [
      "Address not found: 188 EASTON TOWN CENTER\n"
     ]
    },
    {
     "name": "stderr",
     "output_type": "stream",
     "text": [
      " 99%|█████████▉| 948/958 [18:05<00:10,  1.06s/it]"
     ]
    },
    {
     "name": "stdout",
     "output_type": "stream",
     "text": [
      "Address not found: 1780 BARRINGTON RD\n"
     ]
    },
    {
     "name": "stderr",
     "output_type": "stream",
     "text": [
      " 99%|█████████▉| 950/958 [18:07<00:08,  1.08s/it]"
     ]
    },
    {
     "name": "stdout",
     "output_type": "stream",
     "text": [
      "Address not found: 2300 LYTHAM RD\n"
     ]
    },
    {
     "name": "stderr",
     "output_type": "stream",
     "text": [
      " 99%|█████████▉| 951/958 [18:09<00:09,  1.31s/it]"
     ]
    },
    {
     "name": "stdout",
     "output_type": "stream",
     "text": [
      "Address not found: 717 E 17TH AVE BLDG CC\n"
     ]
    },
    {
     "name": "stderr",
     "output_type": "stream",
     "text": [
      "100%|██████████| 958/958 [18:17<00:00,  1.15s/it]\n"
     ]
    }
   ],
   "source": [
    "# In order to merge the community data coordinates with the public business coordinates, \n",
    "# we need to convert the X and Y coordinates into longitude/latitude.\n",
    "\n",
    "# Initialize Nominatim geocoder with a long timeout\n",
    "geolocator = Nominatim(user_agent=\"myGeocoder\", timeout=10)  # 10-second timeout\n",
    "\n",
    "# Create a list to store failed addresses\n",
    "failed_addresses = []\n",
    "\n",
    "# Function to geocode an address\n",
    "def geocode_address(address):\n",
    "    try:\n",
    "        # Append \", Columbus, OH, USA\" to the address\n",
    "        location = geolocator.geocode(address + \", Columbus, OH, USA\")\n",
    "        if location:\n",
    "            return location.latitude, location.longitude\n",
    "        else:\n",
    "            print(f\"Address not found: {address}\")\n",
    "            failed_addresses.append(address)  # Add to failed addresses list\n",
    "            return None, None\n",
    "    except Exception as e:\n",
    "        print(f\"Error geocoding {address}: {e}\")\n",
    "        failed_addresses.append(address)  # Add to failed addresses list\n",
    "        return None, None\n",
    "\n",
    "# Apply geocoding to the filtered LSN column with a progress bar\n",
    "tqdm.pandas()  # Enable progress bar for pandas\n",
    "public_places_df['latitude'], public_places_df['longitude'] = zip(*public_places_df['LSN'].progress_apply(geocode_address))\n",
    "\n",
    "# Add a delay between requests to avoid hitting rate limits\n",
    "time.sleep(1)  # 1-second delay between requests"
   ]
  },
  {
   "cell_type": "code",
   "execution_count": 13,
   "metadata": {},
   "outputs": [
    {
     "name": "stdout",
     "output_type": "stream",
     "text": [
      "\n",
      "Public Places POI Data with Latitude and Longitude from Geocoding (Columbus, OH):\n",
      "                       LSN                                 POI_NAME  \\\n",
      "25           350 E 1ST AVE        Berry Brothers Boltworks Building   \n",
      "41         3480 REFUGEE RD                      First Church of God   \n",
      "63     2524 BILLINGSLEY RD                   Regals Cinema Columbus   \n",
      "75        303 N EUREKA AVE                  Holton Community Center   \n",
      "87      1254 BRIARWOOD AVE                  Linden Community Center   \n",
      "...                    ...                                      ...   \n",
      "15838   1060 MT VERNON AVE       Ethiopian Orthodox Tewahedo Church   \n",
      "15843   2596 CLEVELAND AVE                   The Church of Columbus   \n",
      "15865      276 S NELSON RD            Cleo Dumaree Athletic Complex   \n",
      "15888   1127 MT VERNON AVE                 Mt Vernon Ave AME Church   \n",
      "15936     1113 PARSONS AVE  Columbus Metropolitan Library - Parsons   \n",
      "\n",
      "                                          POI_TYPE   latitude  longitude  \n",
      "25                           Public Places - Other  39.980974 -82.994742  \n",
      "41                Public Places - House of Worship  39.917078 -82.906951  \n",
      "63            Public Places - Theater/Concert Hall  40.112462 -83.083348  \n",
      "75     Public Places - Community/Recreation Center  39.962526 -83.066428  \n",
      "87     Public Places - Community/Recreation Center  40.016975 -82.977456  \n",
      "...                                            ...        ...        ...  \n",
      "15838             Public Places - House of Worship  39.972097 -82.974055  \n",
      "15843             Public Places - House of Worship  40.020281 -82.964816  \n",
      "15865  Public Places - Community/Recreation Center  39.961959 -82.948266  \n",
      "15888             Public Places - House of Worship  39.972328 -82.971762  \n",
      "15936                      Public Places - Library  39.940893 -82.983500  \n",
      "\n",
      "[915 rows x 5 columns]\n"
     ]
    }
   ],
   "source": [
    "# Remove rows with failed addresses\n",
    "public_places_df = public_places_df[~public_places_df['LSN'].isin(failed_addresses)]\n",
    "\n",
    "# Display the results\n",
    "print(\"\\nPublic Places POI Data with Latitude and Longitude from Geocoding (Columbus, OH):\")\n",
    "print(public_places_df[['LSN', 'POI_NAME', 'POI_TYPE', 'latitude', 'longitude']])"
   ]
  },
  {
   "cell_type": "code",
   "execution_count": 14,
   "metadata": {},
   "outputs": [
    {
     "data": {
      "text/plain": [
       "(915, 21)"
      ]
     },
     "execution_count": 14,
     "metadata": {},
     "output_type": "execute_result"
    }
   ],
   "source": [
    "# View updated number of rows and columns\n",
    "public_places_df.shape"
   ]
  },
  {
   "cell_type": "code",
   "execution_count": 15,
   "metadata": {},
   "outputs": [
    {
     "name": "stdout",
     "output_type": "stream",
     "text": [
      "     latitude  longitude  OBJECTID                  LSN  \\\n",
      "25  39.980974 -82.994742  20415681        350 E 1ST AVE   \n",
      "41  39.917078 -82.906951  20415697      3480 REFUGEE RD   \n",
      "63  40.112462 -83.083348  20415719  2524 BILLINGSLEY RD   \n",
      "75  39.962526 -83.066428  20415731     303 N EUREKA AVE   \n",
      "87  40.016975 -82.977456  20415743   1254 BRIARWOOD AVE   \n",
      "\n",
      "                             POI_NAME  \\\n",
      "25  Berry Brothers Boltworks Building   \n",
      "41                First Church of God   \n",
      "63             Regals Cinema Columbus   \n",
      "75            Holton Community Center   \n",
      "87            Linden Community Center   \n",
      "\n",
      "                                       POI_TYPE  \n",
      "25                        Public Places - Other  \n",
      "41             Public Places - House of Worship  \n",
      "63         Public Places - Theater/Concert Hall  \n",
      "75  Public Places - Community/Recreation Center  \n",
      "87  Public Places - Community/Recreation Center  \n"
     ]
    }
   ],
   "source": [
    "# Select a few columns to use and explore for the data\n",
    "public_places_df = public_places_df[['latitude', 'longitude', 'OBJECTID', 'LSN', 'POI_NAME', 'POI_TYPE']]\n",
    "print(public_places_df.head())\n",
    "\n"
   ]
  },
  {
   "cell_type": "code",
   "execution_count": 16,
   "metadata": {},
   "outputs": [
    {
     "name": "stdout",
     "output_type": "stream",
     "text": [
      "     latitude  longitude        Id              address  \\\n",
      "25  39.980974 -82.994742  20415681        350 E 1ST AVE   \n",
      "41  39.917078 -82.906951  20415697      3480 REFUGEE RD   \n",
      "63  40.112462 -83.083348  20415719  2524 BILLINGSLEY RD   \n",
      "75  39.962526 -83.066428  20415731     303 N EUREKA AVE   \n",
      "87  40.016975 -82.977456  20415743   1254 BRIARWOOD AVE   \n",
      "\n",
      "                             POI_NAME  \\\n",
      "25  Berry Brothers Boltworks Building   \n",
      "41                First Church of God   \n",
      "63             Regals Cinema Columbus   \n",
      "75            Holton Community Center   \n",
      "87            Linden Community Center   \n",
      "\n",
      "                                       POI_TYPE  \n",
      "25                        Public Places - Other  \n",
      "41             Public Places - House of Worship  \n",
      "63         Public Places - Theater/Concert Hall  \n",
      "75  Public Places - Community/Recreation Center  \n",
      "87  Public Places - Community/Recreation Center  \n"
     ]
    }
   ],
   "source": [
    "# Rename columns\n",
    "public_places_df = public_places_df.rename(columns={'OBJECTID': 'Id','LSN': 'address'})\n",
    "print(public_places_df.head())"
   ]
  },
  {
   "cell_type": "code",
   "execution_count": null,
   "metadata": {},
   "outputs": [],
   "source": [
    "# Convert Public Places dataset to a GeoDataFrame\n",
    "public_places_gdf = gpd.GeoDataFrame(\n",
    "    public_places_df,\n",
    "    geometry=gpd.points_from_xy(public_places_df.longitude, public_places_df.latitude),\n",
    "    crs=\"EPSG:4326\"  # Assuming coordinates are in EPSG (latitude/longitude) for the Coordinate Reference System(CRS)\n",
    ")"
   ]
  },
  {
   "cell_type": "code",
   "execution_count": 18,
   "metadata": {},
   "outputs": [],
   "source": [
    "# Ensure both datasets are in the same CRS\n",
    "communities_gdf = communities_gdf.to_crs(public_places_gdf.crs)"
   ]
  },
  {
   "cell_type": "markdown",
   "metadata": {},
   "source": [
    "Merge public places and community data"
   ]
  },
  {
   "cell_type": "code",
   "execution_count": 19,
   "metadata": {},
   "outputs": [
    {
     "name": "stdout",
     "output_type": "stream",
     "text": [
      "     latitude  longitude        Id              address  \\\n",
      "25  39.980974 -82.994742  20415681        350 E 1ST AVE   \n",
      "41  39.917078 -82.906951  20415697      3480 REFUGEE RD   \n",
      "63  40.112462 -83.083348  20415719  2524 BILLINGSLEY RD   \n",
      "75  39.962526 -83.066428  20415731     303 N EUREKA AVE   \n",
      "87  40.016975 -82.977456  20415743   1254 BRIARWOOD AVE   \n",
      "\n",
      "                             POI_NAME  \\\n",
      "25  Berry Brothers Boltworks Building   \n",
      "41                First Church of God   \n",
      "63             Regals Cinema Columbus   \n",
      "75            Holton Community Center   \n",
      "87            Linden Community Center   \n",
      "\n",
      "                                       POI_TYPE                    geometry  \\\n",
      "25                        Public Places - Other  POINT (-82.99474 39.98097)   \n",
      "41             Public Places - House of Worship  POINT (-82.90695 39.91708)   \n",
      "63         Public Places - Theater/Concert Hall  POINT (-83.08335 40.11246)   \n",
      "75  Public Places - Community/Recreation Center  POINT (-83.06643 39.96253)   \n",
      "87  Public Places - Community/Recreation Center  POINT (-82.97746 40.01698)   \n",
      "\n",
      "    index_right  OBJECTID        AREA_NAME              CREATED_DATE  \\\n",
      "25         21.0     380.0  Italian Village 2018-10-02 19:34:47+00:00   \n",
      "41         29.0     388.0         Mid East 2018-10-02 19:34:47+00:00   \n",
      "63         25.0     384.0    Far Northwest 2018-10-02 19:34:47+00:00   \n",
      "75         11.0     370.0  Greater Hilltop 2018-10-02 19:34:47+00:00   \n",
      "87         14.0     373.0     North Linden 2018-10-02 19:34:47+00:00   \n",
      "\n",
      "              LAST_EDIT_DATE  AREA_NO                                GLOBALID  \\\n",
      "25 2022-11-17 14:39:43+00:00     47.0  {23B97897-A442-4B4A-AAAF-BB956C49A386}   \n",
      "41 2022-11-17 15:14:08+00:00     57.0  {4BE4DBEC-082A-4779-B872-1C922A21BB54}   \n",
      "63 2018-10-02 19:41:44+00:00     31.0  {63A965E8-9A26-42A7-9763-5283C1590319}   \n",
      "75 2022-11-17 14:47:44+00:00     53.0  {B2EB0D99-1757-412E-8223-3BDA6EC70595}   \n",
      "87 2022-11-10 18:37:10+00:00     40.0  {EBD72502-8437-49EA-8B84-B94262C09F21}   \n",
      "\n",
      "     SHAPESTArea  SHAPESTLength  \n",
      "25  1.245079e+07   14763.923784  \n",
      "41  3.304568e+08  139179.766470  \n",
      "63  1.957096e+08  125543.124063  \n",
      "75  4.313355e+08   80863.448157  \n",
      "87  1.371095e+08   48990.929642  \n"
     ]
    }
   ],
   "source": [
    "# Perform a spatial join to associate public places with communities\n",
    "poi_with_communities = gpd.sjoin(public_places_gdf, communities_gdf, how=\"left\", predicate=\"within\")\n",
    "\n",
    "# Display the results\n",
    "print(poi_with_communities.head())"
   ]
  },
  {
   "cell_type": "code",
   "execution_count": 20,
   "metadata": {},
   "outputs": [
    {
     "name": "stdout",
     "output_type": "stream",
     "text": [
      "<class 'geopandas.geodataframe.GeoDataFrame'>\n",
      "Index: 915 entries, 25 to 15936\n",
      "Data columns (total 16 columns):\n",
      " #   Column          Non-Null Count  Dtype              \n",
      "---  ------          --------------  -----              \n",
      " 0   latitude        915 non-null    float64            \n",
      " 1   longitude       915 non-null    float64            \n",
      " 2   Id              915 non-null    int64              \n",
      " 3   address         915 non-null    object             \n",
      " 4   POI_NAME        915 non-null    object             \n",
      " 5   POI_TYPE        915 non-null    object             \n",
      " 6   geometry        915 non-null    geometry           \n",
      " 7   index_right     904 non-null    float64            \n",
      " 8   OBJECTID        904 non-null    float64            \n",
      " 9   AREA_NAME       904 non-null    object             \n",
      " 10  CREATED_DATE    904 non-null    datetime64[ms, UTC]\n",
      " 11  LAST_EDIT_DATE  904 non-null    datetime64[ms, UTC]\n",
      " 12  AREA_NO         904 non-null    float64            \n",
      " 13  GLOBALID        904 non-null    object             \n",
      " 14  SHAPESTArea     904 non-null    float64            \n",
      " 15  SHAPESTLength   904 non-null    float64            \n",
      "dtypes: datetime64[ms, UTC](2), float64(7), geometry(1), int64(1), object(5)\n",
      "memory usage: 121.5+ KB\n"
     ]
    }
   ],
   "source": [
    "poi_with_communities.info()"
   ]
  },
  {
   "cell_type": "code",
   "execution_count": 21,
   "metadata": {},
   "outputs": [
    {
     "data": {
      "text/plain": [
       "(915, 16)"
      ]
     },
     "execution_count": 21,
     "metadata": {},
     "output_type": "execute_result"
    }
   ],
   "source": [
    "poi_with_communities.shape"
   ]
  },
  {
   "cell_type": "code",
   "execution_count": 22,
   "metadata": {},
   "outputs": [
    {
     "name": "stdout",
     "output_type": "stream",
     "text": [
      "<class 'geopandas.geodataframe.GeoDataFrame'>\n",
      "Index: 904 entries, 25 to 15936\n",
      "Data columns (total 16 columns):\n",
      " #   Column          Non-Null Count  Dtype              \n",
      "---  ------          --------------  -----              \n",
      " 0   latitude        904 non-null    float64            \n",
      " 1   longitude       904 non-null    float64            \n",
      " 2   Id              904 non-null    int64              \n",
      " 3   address         904 non-null    object             \n",
      " 4   POI_NAME        904 non-null    object             \n",
      " 5   POI_TYPE        904 non-null    object             \n",
      " 6   geometry        904 non-null    geometry           \n",
      " 7   index_right     904 non-null    float64            \n",
      " 8   OBJECTID        904 non-null    float64            \n",
      " 9   AREA_NAME       904 non-null    object             \n",
      " 10  CREATED_DATE    904 non-null    datetime64[ms, UTC]\n",
      " 11  LAST_EDIT_DATE  904 non-null    datetime64[ms, UTC]\n",
      " 12  AREA_NO         904 non-null    float64            \n",
      " 13  GLOBALID        904 non-null    object             \n",
      " 14  SHAPESTArea     904 non-null    float64            \n",
      " 15  SHAPESTLength   904 non-null    float64            \n",
      "dtypes: datetime64[ms, UTC](2), float64(7), geometry(1), int64(1), object(5)\n",
      "memory usage: 120.1+ KB\n",
      "None\n"
     ]
    }
   ],
   "source": [
    "# Remove public places whose Community_Name is null\n",
    "poi_with_communities = poi_with_communities.dropna(subset=[\"AREA_NAME\"])\n",
    "\n",
    "print(poi_with_communities.info())"
   ]
  },
  {
   "cell_type": "code",
   "execution_count": 23,
   "metadata": {},
   "outputs": [
    {
     "data": {
      "text/html": [
       "<div>\n",
       "<style scoped>\n",
       "    .dataframe tbody tr th:only-of-type {\n",
       "        vertical-align: middle;\n",
       "    }\n",
       "\n",
       "    .dataframe tbody tr th {\n",
       "        vertical-align: top;\n",
       "    }\n",
       "\n",
       "    .dataframe thead th {\n",
       "        text-align: right;\n",
       "    }\n",
       "</style>\n",
       "<table border=\"1\" class=\"dataframe\">\n",
       "  <thead>\n",
       "    <tr style=\"text-align: right;\">\n",
       "      <th></th>\n",
       "      <th>latitude</th>\n",
       "      <th>longitude</th>\n",
       "      <th>Id</th>\n",
       "      <th>address</th>\n",
       "      <th>POI_NAME</th>\n",
       "      <th>POI_TYPE</th>\n",
       "      <th>geometry</th>\n",
       "      <th>index_right</th>\n",
       "      <th>OBJECTID</th>\n",
       "      <th>AREA_NAME</th>\n",
       "      <th>CREATED_DATE</th>\n",
       "      <th>LAST_EDIT_DATE</th>\n",
       "      <th>AREA_NO</th>\n",
       "      <th>GLOBALID</th>\n",
       "      <th>SHAPESTArea</th>\n",
       "      <th>SHAPESTLength</th>\n",
       "    </tr>\n",
       "  </thead>\n",
       "  <tbody>\n",
       "    <tr>\n",
       "      <th>25</th>\n",
       "      <td>39.980974</td>\n",
       "      <td>-82.994742</td>\n",
       "      <td>20415681</td>\n",
       "      <td>350 E 1ST AVE</td>\n",
       "      <td>Berry Brothers Boltworks Building</td>\n",
       "      <td>Other</td>\n",
       "      <td>POINT (-82.99474 39.98097)</td>\n",
       "      <td>21.0</td>\n",
       "      <td>380.0</td>\n",
       "      <td>Italian Village</td>\n",
       "      <td>2018-10-02 19:34:47+00:00</td>\n",
       "      <td>2022-11-17 14:39:43+00:00</td>\n",
       "      <td>47.0</td>\n",
       "      <td>{23B97897-A442-4B4A-AAAF-BB956C49A386}</td>\n",
       "      <td>1.245079e+07</td>\n",
       "      <td>14763.923784</td>\n",
       "    </tr>\n",
       "    <tr>\n",
       "      <th>41</th>\n",
       "      <td>39.917078</td>\n",
       "      <td>-82.906951</td>\n",
       "      <td>20415697</td>\n",
       "      <td>3480 REFUGEE RD</td>\n",
       "      <td>First Church of God</td>\n",
       "      <td>House of Worship</td>\n",
       "      <td>POINT (-82.90695 39.91708)</td>\n",
       "      <td>29.0</td>\n",
       "      <td>388.0</td>\n",
       "      <td>Mid East</td>\n",
       "      <td>2018-10-02 19:34:47+00:00</td>\n",
       "      <td>2022-11-17 15:14:08+00:00</td>\n",
       "      <td>57.0</td>\n",
       "      <td>{4BE4DBEC-082A-4779-B872-1C922A21BB54}</td>\n",
       "      <td>3.304568e+08</td>\n",
       "      <td>139179.766470</td>\n",
       "    </tr>\n",
       "    <tr>\n",
       "      <th>63</th>\n",
       "      <td>40.112462</td>\n",
       "      <td>-83.083348</td>\n",
       "      <td>20415719</td>\n",
       "      <td>2524 BILLINGSLEY RD</td>\n",
       "      <td>Regals Cinema Columbus</td>\n",
       "      <td>Theater/Concert Hall</td>\n",
       "      <td>POINT (-83.08335 40.11246)</td>\n",
       "      <td>25.0</td>\n",
       "      <td>384.0</td>\n",
       "      <td>Far Northwest</td>\n",
       "      <td>2018-10-02 19:34:47+00:00</td>\n",
       "      <td>2018-10-02 19:41:44+00:00</td>\n",
       "      <td>31.0</td>\n",
       "      <td>{63A965E8-9A26-42A7-9763-5283C1590319}</td>\n",
       "      <td>1.957096e+08</td>\n",
       "      <td>125543.124063</td>\n",
       "    </tr>\n",
       "    <tr>\n",
       "      <th>75</th>\n",
       "      <td>39.962526</td>\n",
       "      <td>-83.066428</td>\n",
       "      <td>20415731</td>\n",
       "      <td>303 N EUREKA AVE</td>\n",
       "      <td>Holton Community Center</td>\n",
       "      <td>Community/Recreation Center</td>\n",
       "      <td>POINT (-83.06643 39.96253)</td>\n",
       "      <td>11.0</td>\n",
       "      <td>370.0</td>\n",
       "      <td>Greater Hilltop</td>\n",
       "      <td>2018-10-02 19:34:47+00:00</td>\n",
       "      <td>2022-11-17 14:47:44+00:00</td>\n",
       "      <td>53.0</td>\n",
       "      <td>{B2EB0D99-1757-412E-8223-3BDA6EC70595}</td>\n",
       "      <td>4.313355e+08</td>\n",
       "      <td>80863.448157</td>\n",
       "    </tr>\n",
       "    <tr>\n",
       "      <th>87</th>\n",
       "      <td>40.016975</td>\n",
       "      <td>-82.977456</td>\n",
       "      <td>20415743</td>\n",
       "      <td>1254 BRIARWOOD AVE</td>\n",
       "      <td>Linden Community Center</td>\n",
       "      <td>Community/Recreation Center</td>\n",
       "      <td>POINT (-82.97746 40.01698)</td>\n",
       "      <td>14.0</td>\n",
       "      <td>373.0</td>\n",
       "      <td>North Linden</td>\n",
       "      <td>2018-10-02 19:34:47+00:00</td>\n",
       "      <td>2022-11-10 18:37:10+00:00</td>\n",
       "      <td>40.0</td>\n",
       "      <td>{EBD72502-8437-49EA-8B84-B94262C09F21}</td>\n",
       "      <td>1.371095e+08</td>\n",
       "      <td>48990.929642</td>\n",
       "    </tr>\n",
       "  </tbody>\n",
       "</table>\n",
       "</div>"
      ],
      "text/plain": [
       "     latitude  longitude        Id              address  \\\n",
       "25  39.980974 -82.994742  20415681        350 E 1ST AVE   \n",
       "41  39.917078 -82.906951  20415697      3480 REFUGEE RD   \n",
       "63  40.112462 -83.083348  20415719  2524 BILLINGSLEY RD   \n",
       "75  39.962526 -83.066428  20415731     303 N EUREKA AVE   \n",
       "87  40.016975 -82.977456  20415743   1254 BRIARWOOD AVE   \n",
       "\n",
       "                             POI_NAME                     POI_TYPE  \\\n",
       "25  Berry Brothers Boltworks Building                        Other   \n",
       "41                First Church of God             House of Worship   \n",
       "63             Regals Cinema Columbus         Theater/Concert Hall   \n",
       "75            Holton Community Center  Community/Recreation Center   \n",
       "87            Linden Community Center  Community/Recreation Center   \n",
       "\n",
       "                      geometry  index_right  OBJECTID        AREA_NAME  \\\n",
       "25  POINT (-82.99474 39.98097)         21.0     380.0  Italian Village   \n",
       "41  POINT (-82.90695 39.91708)         29.0     388.0         Mid East   \n",
       "63  POINT (-83.08335 40.11246)         25.0     384.0    Far Northwest   \n",
       "75  POINT (-83.06643 39.96253)         11.0     370.0  Greater Hilltop   \n",
       "87  POINT (-82.97746 40.01698)         14.0     373.0     North Linden   \n",
       "\n",
       "                CREATED_DATE            LAST_EDIT_DATE  AREA_NO  \\\n",
       "25 2018-10-02 19:34:47+00:00 2022-11-17 14:39:43+00:00     47.0   \n",
       "41 2018-10-02 19:34:47+00:00 2022-11-17 15:14:08+00:00     57.0   \n",
       "63 2018-10-02 19:34:47+00:00 2018-10-02 19:41:44+00:00     31.0   \n",
       "75 2018-10-02 19:34:47+00:00 2022-11-17 14:47:44+00:00     53.0   \n",
       "87 2018-10-02 19:34:47+00:00 2022-11-10 18:37:10+00:00     40.0   \n",
       "\n",
       "                                  GLOBALID   SHAPESTArea  SHAPESTLength  \n",
       "25  {23B97897-A442-4B4A-AAAF-BB956C49A386}  1.245079e+07   14763.923784  \n",
       "41  {4BE4DBEC-082A-4779-B872-1C922A21BB54}  3.304568e+08  139179.766470  \n",
       "63  {63A965E8-9A26-42A7-9763-5283C1590319}  1.957096e+08  125543.124063  \n",
       "75  {B2EB0D99-1757-412E-8223-3BDA6EC70595}  4.313355e+08   80863.448157  \n",
       "87  {EBD72502-8437-49EA-8B84-B94262C09F21}  1.371095e+08   48990.929642  "
      ]
     },
     "execution_count": 23,
     "metadata": {},
     "output_type": "execute_result"
    }
   ],
   "source": [
    "# Remove \"Public Place - \" from the beginning of the POI_TYPE column\n",
    "poi_with_communities['POI_TYPE'] = poi_with_communities['POI_TYPE'].str.replace(\"Public Places - \", \"\", regex=False)\n",
    "poi_with_communities.head()"
   ]
  },
  {
   "cell_type": "code",
   "execution_count": 24,
   "metadata": {},
   "outputs": [
    {
     "name": "stdout",
     "output_type": "stream",
     "text": [
      "     latitude  longitude  business_id              address  \\\n",
      "25  39.980974 -82.994742     20415681        350 E 1ST AVE   \n",
      "41  39.917078 -82.906951     20415697      3480 REFUGEE RD   \n",
      "63  40.112462 -83.083348     20415719  2524 BILLINGSLEY RD   \n",
      "75  39.962526 -83.066428     20415731     303 N EUREKA AVE   \n",
      "87  40.016975 -82.977456     20415743   1254 BRIARWOOD AVE   \n",
      "\n",
      "                        business_name                business_type  \\\n",
      "25  Berry Brothers Boltworks Building                        Other   \n",
      "41                First Church of God             House of Worship   \n",
      "63             Regals Cinema Columbus         Theater/Concert Hall   \n",
      "75            Holton Community Center  Community/Recreation Center   \n",
      "87            Linden Community Center  Community/Recreation Center   \n",
      "\n",
      "                      geometry  index_right  community_id   community_name  \\\n",
      "25  POINT (-82.99474 39.98097)         21.0         380.0  Italian Village   \n",
      "41  POINT (-82.90695 39.91708)         29.0         388.0         Mid East   \n",
      "63  POINT (-83.08335 40.11246)         25.0         384.0    Far Northwest   \n",
      "75  POINT (-83.06643 39.96253)         11.0         370.0  Greater Hilltop   \n",
      "87  POINT (-82.97746 40.01698)         14.0         373.0     North Linden   \n",
      "\n",
      "      community_created_date            last_edit_date  community_no  \\\n",
      "25 2018-10-02 19:34:47+00:00 2022-11-17 14:39:43+00:00          47.0   \n",
      "41 2018-10-02 19:34:47+00:00 2022-11-17 15:14:08+00:00          57.0   \n",
      "63 2018-10-02 19:34:47+00:00 2018-10-02 19:41:44+00:00          31.0   \n",
      "75 2018-10-02 19:34:47+00:00 2022-11-17 14:47:44+00:00          53.0   \n",
      "87 2018-10-02 19:34:47+00:00 2022-11-10 18:37:10+00:00          40.0   \n",
      "\n",
      "                                 global_id    shape_area   shape_length  \n",
      "25  {23B97897-A442-4B4A-AAAF-BB956C49A386}  1.245079e+07   14763.923784  \n",
      "41  {4BE4DBEC-082A-4779-B872-1C922A21BB54}  3.304568e+08  139179.766470  \n",
      "63  {63A965E8-9A26-42A7-9763-5283C1590319}  1.957096e+08  125543.124063  \n",
      "75  {B2EB0D99-1757-412E-8223-3BDA6EC70595}  4.313355e+08   80863.448157  \n",
      "87  {EBD72502-8437-49EA-8B84-B94262C09F21}  1.371095e+08   48990.929642  \n"
     ]
    }
   ],
   "source": [
    "# Rename columns\n",
    "poi_with_communities = poi_with_communities.rename(columns={'Id': 'business_id',\n",
    "                                                            'POI_NAME': 'business_name',\n",
    "                                                            'POI_TYPE': 'business_type',\n",
    "                                                            'OBJECTID': 'community_id',\n",
    "                                                            'AREA_NAME': 'community_name',\n",
    "                                                            'CREATED_DATE': 'community_created_date', \n",
    "                                                            'LAST_EDIT_DATE': 'last_edit_date',\n",
    "                                                            'AREA_NO': 'community_no',\n",
    "                                                            'GLOBALID': 'global_id',\n",
    "                                                            'SHAPESTArea': 'shape_area',\n",
    "                                                            'SHAPESTLength': 'shape_length'})\n",
    "\n",
    "print(poi_with_communities.head())"
   ]
  },
  {
   "cell_type": "markdown",
   "metadata": {},
   "source": [
    "Prepare the data for SQL database"
   ]
  },
  {
   "cell_type": "code",
   "execution_count": 25,
   "metadata": {},
   "outputs": [],
   "source": [
    "# Define the columns for each DataFrame\n",
    "business_columns = ['latitude', 'longitude', 'business_id', 'address', 'business_name', 'business_type','community_id']\n",
    "community_columns = ['community_id', 'community_name', 'community_no', 'global_id']\n",
    "\n",
    "# Create DataFrames\n",
    "business_df = poi_with_communities[business_columns].copy()\n",
    "community_df = poi_with_communities[community_columns].copy()"
   ]
  },
  {
   "cell_type": "code",
   "execution_count": 26,
   "metadata": {},
   "outputs": [
    {
     "name": "stdout",
     "output_type": "stream",
     "text": [
      "Business Info DataFrame:\n",
      "     latitude  longitude  business_id              address  \\\n",
      "25  39.980974 -82.994742     20415681        350 E 1ST AVE   \n",
      "41  39.917078 -82.906951     20415697      3480 REFUGEE RD   \n",
      "63  40.112462 -83.083348     20415719  2524 BILLINGSLEY RD   \n",
      "75  39.962526 -83.066428     20415731     303 N EUREKA AVE   \n",
      "87  40.016975 -82.977456     20415743   1254 BRIARWOOD AVE   \n",
      "\n",
      "                        business_name                business_type  \\\n",
      "25  Berry Brothers Boltworks Building                        Other   \n",
      "41                First Church of God             House of Worship   \n",
      "63             Regals Cinema Columbus         Theater/Concert Hall   \n",
      "75            Holton Community Center  Community/Recreation Center   \n",
      "87            Linden Community Center  Community/Recreation Center   \n",
      "\n",
      "    community_id  \n",
      "25         380.0  \n",
      "41         388.0  \n",
      "63         384.0  \n",
      "75         370.0  \n",
      "87         373.0  \n",
      "\n",
      "Community Info DataFrame:\n",
      "    community_id   community_name  community_no  \\\n",
      "25         380.0  Italian Village          47.0   \n",
      "41         388.0         Mid East          57.0   \n",
      "63         384.0    Far Northwest          31.0   \n",
      "75         370.0  Greater Hilltop          53.0   \n",
      "87         373.0     North Linden          40.0   \n",
      "\n",
      "                                 global_id  \n",
      "25  {23B97897-A442-4B4A-AAAF-BB956C49A386}  \n",
      "41  {4BE4DBEC-082A-4779-B872-1C922A21BB54}  \n",
      "63  {63A965E8-9A26-42A7-9763-5283C1590319}  \n",
      "75  {B2EB0D99-1757-412E-8223-3BDA6EC70595}  \n",
      "87  {EBD72502-8437-49EA-8B84-B94262C09F21}  \n"
     ]
    }
   ],
   "source": [
    "# Display the first few rows of each DataFrame for verification\n",
    "print(\"Business Info DataFrame:\")\n",
    "print(business_df.head())\n",
    "\n",
    "print(\"\\nCommunity Info DataFrame:\")\n",
    "print(community_df.head())"
   ]
  },
  {
   "cell_type": "code",
   "execution_count": 27,
   "metadata": {},
   "outputs": [],
   "source": [
    "# Save the DataFrames to separate CSV files\n",
    "business_df.to_csv(\"Resources/Output/business_data.csv\", index=False)\n",
    "community_df.to_csv(\"Resources/Output/community_data.csv\", index=False)"
   ]
  },
  {
   "cell_type": "code",
   "execution_count": null,
   "metadata": {},
   "outputs": [],
   "source": []
  }
 ],
 "metadata": {
  "kernelspec": {
   "display_name": "dev",
   "language": "python",
   "name": "python3"
  },
  "language_info": {
   "codemirror_mode": {
    "name": "ipython",
    "version": 3
   },
   "file_extension": ".py",
   "mimetype": "text/x-python",
   "name": "python",
   "nbconvert_exporter": "python",
   "pygments_lexer": "ipython3",
   "version": "3.10.15"
  }
 },
 "nbformat": 4,
 "nbformat_minor": 2
}
